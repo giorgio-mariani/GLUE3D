{
 "cells": [
  {
   "cell_type": "code",
   "execution_count": null,
   "id": "0",
   "metadata": {},
   "outputs": [],
   "source": [
    "import sys\n",
    "import os\n",
    "\n",
    "sys.path.append(\"..\")\n",
    "os.environ[\"GLUE3D_CACHE_DIR\"] = \"../.cache\" # <- setup environment variable to GLUE3D cache data\n",
    "\n",
    "%load_ext autoreload\n",
    "%autoreload 2"
   ]
  },
  {
   "cell_type": "code",
   "execution_count": null,
   "id": "1",
   "metadata": {},
   "outputs": [],
   "source": [
    "from glue3d.models.loaders import load_qwenVL_model\n",
    "\n",
    "# Load qwen2 VL model\n",
    "model, processor = load_qwenVL_model()"
   ]
  },
  {
   "cell_type": "code",
   "execution_count": null,
   "id": "2",
   "metadata": {},
   "outputs": [],
   "source": [
    "from glue3d.models.hf import BinaryHFGenerator, MultichoiceHFGenerator, CaptioningHFGenerator\n",
    "\n",
    "def prepare_data(processor, data, text):\n",
    "    from qwen_vl_utils import process_vision_info\n",
    "\n",
    "    messages = [{\"role\": \"user\",\"content\": [{\"type\": \"image\", \"image\": data}, {\"type\": \"text\", \"text\": text}]}]\n",
    "    text = processor.apply_chat_template(messages, tokenize=False, add_generation_prompt=True)\n",
    "    image_inputs, video_inputs = process_vision_info(messages)\n",
    "    return processor(\n",
    "        text=[text],\n",
    "        images=image_inputs,\n",
    "        videos=video_inputs,\n",
    "        padding=True,\n",
    "        return_tensors=\"pt\",\n",
    "    )\n",
    "\n",
    "# Create answer generator for binary task\n",
    "class BinaryQwenVLAnswerGenerator(BinaryHFGenerator):\n",
    "    def __init__(self, model, processor):\n",
    "        super().__init__(model, processor.tokenizer)\n",
    "        self.processor = processor\n",
    "\n",
    "    def prepare_data(self, data, text):\n",
    "        return prepare_data(self.processor, data, text).to(self.model.device)\n",
    "\n",
    "# Create answer generator for multiplechoice task\n",
    "class MultichoiceQwenVLAnswerGenerator(MultichoiceHFGenerator):\n",
    "    def __init__(self, model, processor):\n",
    "        super().__init__(model, processor.tokenizer)\n",
    "        self.processor = processor\n",
    "\n",
    "    def prepare_data(self, data, text):\n",
    "        return prepare_data(self.processor, data, text).to(self.model.device)\n",
    "\n",
    "\n",
    "# Create answer generator for captioning task\n",
    "class CaptioningQwenVLAnswerGenerator(CaptioningHFGenerator):\n",
    "    def __init__(self, model, processor):\n",
    "        super().__init__(model, processor.tokenizer)\n",
    "        self.processor = processor\n",
    "\n",
    "    def prepare_data(self, data, text):\n",
    "        return prepare_data(self.processor, data, text).to(self.model.device)\n",
    "\n",
    "\n",
    "binary_generator = BinaryQwenVLAnswerGenerator(model, processor)\n",
    "multichoice_generator = MultichoiceQwenVLAnswerGenerator(model, processor)\n",
    "caption_generator = CaptioningQwenVLAnswerGenerator(model, processor)"
   ]
  },
  {
   "cell_type": "code",
   "execution_count": null,
   "id": "3",
   "metadata": {},
   "outputs": [],
   "source": [
    "from glue3d.generate_answers import generate_GLUE3D_answers\n",
    "\n",
    "# Run all GLUE3D tasks\n",
    "binary_answers = generate_GLUE3D_answers(\"binary_task\", \"GLUE3D-image\", binary_generator)\n",
    "multichoice_answers = generate_GLUE3D_answers(\"multiplechoice_task\", \"GLUE3D-image\", multichoice_generator)\n",
    "captioning_answers = generate_GLUE3D_answers(\"captioning_task\", \"GLUE3D-image\", caption_generator)"
   ]
  }
 ],
 "metadata": {
  "kernelspec": {
   "display_name": "Python 3 (ipykernel)",
   "language": "python",
   "name": "python3"
  },
  "language_info": {
   "codemirror_mode": {
    "name": "ipython",
    "version": 3
   },
   "file_extension": ".py",
   "mimetype": "text/x-python",
   "name": "python",
   "nbconvert_exporter": "python",
   "pygments_lexer": "ipython3",
   "version": "3.10.16"
  }
 },
 "nbformat": 4,
 "nbformat_minor": 5
}
